{
 "cells": [
  {
   "cell_type": "code",
   "execution_count": 1,
   "metadata": {},
   "outputs": [
    {
     "name": "stdout",
     "output_type": "stream",
     "text": [
      "List =  [4, 24, 12, 6, 14, 44, 43, 45, 15, 4]\n",
      "Enter (B) for Bubble Sort, (S) for elsection Sort and (I) for Insertion Sort \n",
      " Enter here:B\n",
      "Bubble Sorting\n",
      "[4, 4, 6, 12, 14, 15, 24, 43, 44, 45]\n"
     ]
    }
   ],
   "source": [
    "list1 = [4,24,12,6,14,44,43,45,15,4]\n",
    "print(\"List = \",list1)\n",
    "n = len(list1)\n",
    "def bubbleSort():\n",
    "    print(\"Bubble Sorting\")\n",
    "    for i in range(n-1): \n",
    "        for j in range(0, n-i-1): \n",
    "            if list1[j] > list1[j+1] : \n",
    "                list1[j], list1[j+1] = list1[j+1], list1[j] \n",
    "    print(list1)\n",
    "\n",
    "def SelectionSort():\n",
    "    print(\"Selection Sorting\")\n",
    "    for i in range(n):\n",
    "        for j in range(i):\n",
    "            if list1[i]<list1[j]:\n",
    "                list1[i],list1[j] = list1[j],list1[i]\n",
    "    print(list1)\n",
    "    \n",
    "def InsertionSort():\n",
    "    print(\"Insertion Sorting\")\n",
    "    for i in range(1, n): \n",
    "        c = list1[i] \n",
    "        j = i-1\n",
    "        while j >=0 and c < list1[j] : \n",
    "                list1[j+1] = list1[j] \n",
    "                j -= 1\n",
    "        list1[j+1] = c\n",
    "    print(list1)\n",
    "\n",
    "inp = input(\"Enter (B) for Bubble Sort, (S) for elsection Sort and (I) for Insertion Sort \\n Enter here:\")\n",
    "if inp==\"B\" or inp==\"b\":\n",
    "    bubbleSort()\n",
    "elif inp==\"S\" or inp==\"s\":\n",
    "    SelectionSort()\n",
    "elif inp==\"I\" or inp==\"i\":\n",
    "    InsertionSort()\n",
    "else:\n",
    "    print(\"Invalid input\")"
   ]
  },
  {
   "cell_type": "code",
   "execution_count": null,
   "metadata": {},
   "outputs": [],
   "source": []
  }
 ],
 "metadata": {
  "kernelspec": {
   "display_name": "Python 3",
   "language": "python",
   "name": "python3"
  },
  "language_info": {
   "codemirror_mode": {
    "name": "ipython",
    "version": 3
   },
   "file_extension": ".py",
   "mimetype": "text/x-python",
   "name": "python",
   "nbconvert_exporter": "python",
   "pygments_lexer": "ipython3",
   "version": "3.6.8"
  }
 },
 "nbformat": 4,
 "nbformat_minor": 2
}
