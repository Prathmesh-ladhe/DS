{
 "cells": [
  {
   "cell_type": "code",
   "execution_count": 1,
   "metadata": {},
   "outputs": [
    {
     "name": "stdout",
     "output_type": "stream",
     "text": [
      "First polynomial is\n",
      "5 + 0x^ 1 + 10x^ 2 + 6x^ 3\n",
      "Second polynomial is\n",
      "1 + 2x^ 1 + 4x^ 2\n",
      "sum polynomial is\n",
      "6 + 2x^ 1 + 14x^ 2 + 6x^ 3"
     ]
    }
   ],
   "source": [
    "def add(A, B, m, n): \n",
    "\n",
    "    size = max(m, n); \n",
    "    sum = [0 for i in range(size)] \n",
    "\n",
    "\n",
    "    for i in range(0, m, 1): \n",
    "        sum[i] = A[i] \n",
    "\n",
    "\n",
    "    for i in range(n): \n",
    "        sum[i] += B[i] \n",
    "\n",
    "    return sum\n",
    "\n",
    "\n",
    "def printPoly(poly, n): \n",
    "    for i in range(n): \n",
    "        print(poly[i], end = \"\") \n",
    "        if (i != 0): \n",
    "            print(\"x^\", i, end = \"\") \n",
    "        if (i != n - 1): \n",
    "            print(\" + \", end = \"\") \n",
    "\n",
    "\n",
    "if __name__ == '__main__': \n",
    "\n",
    "    A = [5, 0, 10, 6] \n",
    "\n",
    "    \n",
    "    B = [1, 2, 4] \n",
    "    m = len(A) \n",
    "    n = len(B) \n",
    "\n",
    "    print(\"First polynomial is\") \n",
    "    printPoly(A, m) \n",
    "    print(\"\\n\", end = \"\") \n",
    "    print(\"Second polynomial is\") \n",
    "    printPoly(B, n) \n",
    "    print(\"\\n\", end = \"\") \n",
    "    sum = add(A, B, m, n) \n",
    "    size = max(m, n) \n",
    "\n",
    "    print(\"sum polynomial is\") \n",
    "    printPoly(sum, size) "
   ]
  },
  {
   "cell_type": "code",
   "execution_count": null,
   "metadata": {},
   "outputs": [],
   "source": []
  }
 ],
 "metadata": {
  "kernelspec": {
   "display_name": "Python 3",
   "language": "python",
   "name": "python3"
  },
  "language_info": {
   "codemirror_mode": {
    "name": "ipython",
    "version": 3
   },
   "file_extension": ".py",
   "mimetype": "text/x-python",
   "name": "python",
   "nbconvert_exporter": "python",
   "pygments_lexer": "ipython3",
   "version": "3.6.8"
  }
 },
 "nbformat": 4,
 "nbformat_minor": 2
}
