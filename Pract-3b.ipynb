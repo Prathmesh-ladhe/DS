{
 "cells": [
  {
   "cell_type": "code",
   "execution_count": 1,
   "metadata": {},
   "outputs": [
    {
     "name": "stdout",
     "output_type": "stream",
     "text": [
      "Enter number of disks: 2\n",
      "Move disk 1 from peg A to peg B.\n",
      "Move disk 2 from peg A to peg C.\n",
      "Move disk 1 from peg B to peg C.\n"
     ]
    }
   ],
   "source": [
    "def hanoi(disks, source, auxiliary, target):\n",
    "    if disks == 1:\n",
    "        print('Move disk 1 from peg {} to peg {}.'.format(source, target))\n",
    "        return\n",
    " \n",
    "    hanoi(disks - 1, source, target, auxiliary)\n",
    "    print('Move disk {} from peg {} to peg {}.'.format(disks, source, target))\n",
    "    hanoi(disks - 1, auxiliary, source, target)\n",
    " \n",
    " \n",
    "disks = int(input('Enter number of disks: '))\n",
    "hanoi(disks, 'A', 'B', 'C')"
   ]
  },
  {
   "cell_type": "code",
   "execution_count": null,
   "metadata": {},
   "outputs": [],
   "source": []
  }
 ],
 "metadata": {
  "kernelspec": {
   "display_name": "Python 3",
   "language": "python",
   "name": "python3"
  },
  "language_info": {
   "codemirror_mode": {
    "name": "ipython",
    "version": 3
   },
   "file_extension": ".py",
   "mimetype": "text/x-python",
   "name": "python",
   "nbconvert_exporter": "python",
   "pygments_lexer": "ipython3",
   "version": "3.6.8"
  }
 },
 "nbformat": 4,
 "nbformat_minor": 2
}
