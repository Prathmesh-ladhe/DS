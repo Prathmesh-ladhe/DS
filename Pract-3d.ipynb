{
 "cells": [
  {
   "cell_type": "code",
   "execution_count": 1,
   "metadata": {},
   "outputs": [
    {
     "name": "stdout",
     "output_type": "stream",
     "text": [
      "Enter a number: 5\n",
      "The factorial of 5 is 120\n",
      "Enter a number for iteration : 2\n",
      "Factorial is 120\n"
     ]
    }
   ],
   "source": [
    "def recur_factorial(n):  \n",
    "    if n == 1:  \n",
    "        return n  \n",
    "    else:  \n",
    "        return n*recur_factorial(n-1)  \n",
    " \n",
    " num = int(input(\"Enter a number: \"))  \n",
    "\n",
    "if num < 0:  \n",
    "    print(\"Sorry, factorial does not exist for negative numbers\")  \n",
    "elif num == 0:  \n",
    "    print(\"The factorial of 0 is 1\")  \n",
    "else:  \n",
    "    print(\"The factorial of\",num,\"is\",recur_factorial(num))\n",
    "\n",
    "def factorial(n):\n",
    "\n",
    "    fact = 1\n",
    "    for i in range(1, n + 1):\n",
    "        fact = fact * i\n",
    "\n",
    "    return fact\n",
    "\n",
    "\n",
    "if __name__ == '_main_':\n",
    "    print(\"The Factorial of\", n, \"is\", factorial(n))\n",
    "\n",
    "#using iteration\n",
    "def fact(number):\n",
    "   \n",
    "    fact = 1\n",
    "  \n",
    "    for number in range(5, 1,-1):\n",
    "    \n",
    "        fact = fact * number\n",
    "    return fact\n",
    "\n",
    "number = int(input(\"Enter a number for iteration : \"))\n",
    "\n",
    "factorial = fact(number)\n",
    "print(\"Factorial is \"+str(factorial))"
   ]
  },
  {
   "cell_type": "code",
   "execution_count": null,
   "metadata": {},
   "outputs": [],
   "source": []
  }
 ],
 "metadata": {
  "kernelspec": {
   "display_name": "Python 3",
   "language": "python",
   "name": "python3"
  },
  "language_info": {
   "codemirror_mode": {
    "name": "ipython",
    "version": 3
   },
   "file_extension": ".py",
   "mimetype": "text/x-python",
   "name": "python",
   "nbconvert_exporter": "python",
   "pygments_lexer": "ipython3",
   "version": "3.6.8"
  }
 },
 "nbformat": 4,
 "nbformat_minor": 2
}
