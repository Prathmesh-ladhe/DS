{
 "cells": [
  {
   "cell_type": "code",
   "execution_count": 1,
   "metadata": {},
   "outputs": [
    {
     "name": "stdout",
     "output_type": "stream",
     "text": [
      "Adding the element in the queue : \n",
      "6\n",
      "initial queue : \n",
      "[1, 2, 3, 4, 5, 6]\n",
      "After removing an element from the queue : \n",
      "[1, 2, 3, 4, 5]\n"
     ]
    }
   ],
   "source": [
    "class Stack():\n",
    "    def __init__(self):\n",
    "        self.items = [1,2,3,4,5]\n",
    "\n",
    "    \n",
    "    \n",
    "    def enque(self,item):\n",
    "        self.items.append(item)\n",
    "        print(item)\n",
    "\n",
    "        \n",
    "    def deque(self):\n",
    "        b= self.items\n",
    "        b.pop()\n",
    "        print(b)\n",
    "\n",
    "    def traverse(self):\n",
    "        a = []\n",
    "        l = self.items\n",
    "        for i in l:\n",
    "            a.append(i)\n",
    "        print(a)\n",
    "\n",
    "s=Stack()\n",
    "\n",
    "print(\"Adding the element in the queue : \")\n",
    "s.enque(6)\n",
    "print(\"initial queue : \")\n",
    "s.traverse()\n",
    "\n",
    "print(\"After removing an element from the queue : \")\n",
    "s.deque()"
   ]
  },
  {
   "cell_type": "code",
   "execution_count": null,
   "metadata": {},
   "outputs": [],
   "source": []
  }
 ],
 "metadata": {
  "kernelspec": {
   "display_name": "Python 3",
   "language": "python",
   "name": "python3"
  },
  "language_info": {
   "codemirror_mode": {
    "name": "ipython",
    "version": 3
   },
   "file_extension": ".py",
   "mimetype": "text/x-python",
   "name": "python",
   "nbconvert_exporter": "python",
   "pygments_lexer": "ipython3",
   "version": "3.6.8"
  }
 },
 "nbformat": 4,
 "nbformat_minor": 2
}
