{
 "cells": [
  {
   "cell_type": "code",
   "execution_count": 1,
   "metadata": {},
   "outputs": [
    {
     "name": "stdout",
     "output_type": "stream",
     "text": [
      "Before : [None, None, None, None]\n",
      "Collission detected\n",
      "Collission detected\n",
      "After: [None, 1, None, 23]\n"
     ]
    }
   ],
   "source": [
    "class Hash:\n",
    "    def __init__(self, keys, lowerrange, higherrange):\n",
    "        self.value = self.hashfunction(keys,lowerrange, higherrange)\n",
    "\n",
    "    def get_key_value(self):\n",
    "        return self.value\n",
    "\n",
    "    def hashfunction(self,keys,lowerrange, higherrange):\n",
    "        if lowerrange == 0 and higherrange > 0:\n",
    "            return keys%(higherrange)\n",
    "\n",
    "if __name__ == '__main__':\n",
    "    list_of_keys = [23,43,1,87]\n",
    "    list_of_list_index = [None,None,None,None]\n",
    "    print(\"Before : \" + str(list_of_list_index))\n",
    "    for value in list_of_keys:\n",
    "        #print(Hash(value,0,len(list_of_keys)).get_key_value())\n",
    "        list_index = Hash(value,0,len(list_of_keys)).get_key_value()\n",
    "        if list_of_list_index[list_index]:\n",
    "            print(\"Collission detected\")\n",
    "        else:\n",
    "            list_of_list_index[list_index] = value\n",
    "\n",
    "    print(\"After: \" + str(list_of_list_index))"
   ]
  },
  {
   "cell_type": "code",
   "execution_count": null,
   "metadata": {},
   "outputs": [],
   "source": []
  }
 ],
 "metadata": {
  "kernelspec": {
   "display_name": "Python 3",
   "language": "python",
   "name": "python3"
  },
  "language_info": {
   "codemirror_mode": {
    "name": "ipython",
    "version": 3
   },
   "file_extension": ".py",
   "mimetype": "text/x-python",
   "name": "python",
   "nbconvert_exporter": "python",
   "pygments_lexer": "ipython3",
   "version": "3.6.8"
  }
 },
 "nbformat": 4,
 "nbformat_minor": 2
}
