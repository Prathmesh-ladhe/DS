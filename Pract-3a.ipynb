{
 "cells": [
  {
   "cell_type": "code",
   "execution_count": 1,
   "metadata": {},
   "outputs": [
    {
     "name": "stdout",
     "output_type": "stream",
     "text": [
      "10 pushed to stack \n",
      "20 pushed to stack \n",
      "30 pushed to stack \n",
      "30 popped from stack\n"
     ]
    }
   ],
   "source": [
    "from sys import maxsize \n",
    "\n",
    "\n",
    "def createStack(): \n",
    "    stack = [] \n",
    "    return stack \n",
    "\n",
    "def isEmpty(stack): \n",
    "    return len(stack) == 0\n",
    "\n",
    "\n",
    "def push(stack, item): \n",
    "    stack.append(item) \n",
    "    print(item + \" pushed to stack \") \n",
    "\n",
    "\n",
    "def pop(stack): \n",
    "    if (isEmpty(stack)): \n",
    "        return str(-maxsize -1) \n",
    "\n",
    "    return stack.pop() \n",
    "\n",
    "\n",
    "def peek(stack): \n",
    "    if (isEmpty(stack)): \n",
    "        return str(-maxsize -1) \n",
    "    return stack[len(stack) - 1] \n",
    "\n",
    " \n",
    "stack = createStack() \n",
    "push(stack, str(10)) \n",
    "push(stack, str(20)) \n",
    "push(stack, str(30)) \n",
    "print(pop(stack) + \" popped from stack\") "
   ]
  },
  {
   "cell_type": "code",
   "execution_count": null,
   "metadata": {},
   "outputs": [],
   "source": []
  }
 ],
 "metadata": {
  "kernelspec": {
   "display_name": "Python 3",
   "language": "python",
   "name": "python3"
  },
  "language_info": {
   "codemirror_mode": {
    "name": "ipython",
    "version": 3
   },
   "file_extension": ".py",
   "mimetype": "text/x-python",
   "name": "python",
   "nbconvert_exporter": "python",
   "pygments_lexer": "ipython3",
   "version": "3.6.8"
  }
 },
 "nbformat": 4,
 "nbformat_minor": 2
}
