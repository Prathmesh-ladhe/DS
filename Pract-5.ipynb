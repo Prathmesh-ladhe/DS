{
 "cells": [
  {
   "cell_type": "code",
   "execution_count": 2,
   "metadata": {},
   "outputs": [
    {
     "name": "stdout",
     "output_type": "stream",
     "text": [
      "List =  [1, 2, 3, 4, 5, 6, 7, 8, 9, 10, 11, 12, 13, 14, 15, 16, 17, 18, 19, 20]\n",
      "Enter (L) for Linear search and  (B) for Binary search :L\n",
      "Enter a no. from the given list1 10\n",
      "LINEAR SEARCHING\n",
      "index of  10  is  9\n"
     ]
    }
   ],
   "source": [
    "list1 = [1,2,3,4,5,6,7,8,9,10,11,12,13,14,15,16,17,18,19,20]\n",
    "print(\"List = \",list1)\n",
    "size = len(list1)\n",
    "def binary_search(x):\n",
    "    print(\"BINARY SEARCHING\")\n",
    "    low = 0\n",
    "    high = len(list1) - 1\n",
    "    mid = 0\n",
    "    while low <= high: \n",
    "        mid = (high + low) // 2\n",
    "        if list1[mid] < x: \n",
    "            low = mid + 1\n",
    "        elif list1[mid] > x: \n",
    "            high = mid - 1\n",
    "        else: \n",
    "            return mid \n",
    "    return \"None it not in the list\"\n",
    "\n",
    "\n",
    "\n",
    "def linear_search(n):\n",
    "    print(\"LINEAR SEARCHING\")\n",
    "    if n not in list1:\n",
    "        print(n,\"not in the list\")\n",
    "    else:\n",
    "        for i in range(size):\n",
    "            if list1[i]==n:\n",
    "                print(\"index of \", n,\" is \",i)\n",
    "n = input(\"Enter (L) for Linear search and  (B) for Binary search :\")\n",
    "if n==\"L\" or n==\"l\":\n",
    "    y = int(input(\"Enter a no. from the given list1 \"))\n",
    "    linear_search(y)\n",
    "elif n==\"B\" or n==\"b\":\n",
    "    y = int(input(\"Enter a no. from the given list1 \"))\n",
    "    print(\"index of \",y,\" is \",binary_search(y))\n",
    "else:\n",
    "    print(\"Invalid input\")"
   ]
  },
  {
   "cell_type": "code",
   "execution_count": null,
   "metadata": {},
   "outputs": [],
   "source": []
  }
 ],
 "metadata": {
  "kernelspec": {
   "display_name": "Python 3",
   "language": "python",
   "name": "python3"
  },
  "language_info": {
   "codemirror_mode": {
    "name": "ipython",
    "version": 3
   },
   "file_extension": ".py",
   "mimetype": "text/x-python",
   "name": "python",
   "nbconvert_exporter": "python",
   "pygments_lexer": "ipython3",
   "version": "3.6.8"
  }
 },
 "nbformat": 4,
 "nbformat_minor": 2
}
