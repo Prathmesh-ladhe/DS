{
 "cells": [
  {
   "cell_type": "code",
   "execution_count": 1,
   "metadata": {},
   "outputs": [
    {
     "name": "stdout",
     "output_type": "stream",
     "text": [
      "[12, 35, 42, 22, 1, 6, 54]\n",
      "[1, 6, 12, 22, 35, 42, 54]\n",
      "[1, 6, 12, 22, 35, 42, 54, 'hello', 'world']\n",
      "['world', 'hello', 54, 42, 35, 22, 12, 6, 1]\n"
     ]
    }
   ],
   "source": [
    "# Write a program to store the elements in 1-D array and provide an option \n",
    "# to perform the operations like searching, sorting, merging, reversing the elements.\n",
    "arr1=[12,35,42,22,1,6,54]\n",
    "arr2=['hello','world']\n",
    "arr1.index(35)\n",
    "print(arr1)\n",
    "arr1.sort()\n",
    "print(arr1)\n",
    "arr1.extend(arr2)\n",
    "print(arr1)\n",
    "arr1.reverse()\n",
    "print(arr1)"
   ]
  },
  {
   "cell_type": "code",
   "execution_count": null,
   "metadata": {},
   "outputs": [],
   "source": []
  }
 ],
 "metadata": {
  "kernelspec": {
   "display_name": "Python 3",
   "language": "python",
   "name": "python3"
  },
  "language_info": {
   "codemirror_mode": {
    "name": "ipython",
    "version": 3
   },
   "file_extension": ".py",
   "mimetype": "text/x-python",
   "name": "python",
   "nbconvert_exporter": "python",
   "pygments_lexer": "ipython3",
   "version": "3.6.8"
  }
 },
 "nbformat": 4,
 "nbformat_minor": 2
}
